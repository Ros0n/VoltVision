{
 "cells": [
  {
   "cell_type": "code",
   "execution_count": 30,
   "metadata": {},
   "outputs": [],
   "source": [
    "import pandas as pd"
   ]
  },
  {
   "cell_type": "code",
   "execution_count": 31,
   "metadata": {},
   "outputs": [],
   "source": [
    "df_demand = pd.read_csv('../../dataset/Demand Forecasting/Demand Forecasting Demand Data upto Feb 21.csv', sep=',')"
   ]
  },
  {
   "cell_type": "code",
   "execution_count": 32,
   "metadata": {},
   "outputs": [],
   "source": [
    "df_weather = pd.read_csv('../../dataset/Demand Forecasting/Demand Forecasting Weather Data upto Feb 28.csv', sep=',')"
   ]
  },
  {
   "cell_type": "code",
   "execution_count": 33,
   "metadata": {},
   "outputs": [],
   "source": [
    "df_merged=pd.merge(left=df_demand,right=df_weather, on='datetime')"
   ]
  },
  {
   "cell_type": "code",
   "execution_count": 34,
   "metadata": {},
   "outputs": [
    {
     "name": "stdout",
     "output_type": "stream",
     "text": [
      "<class 'pandas.core.frame.DataFrame'>\n",
      "RangeIndex: 27552 entries, 0 to 27551\n",
      "Data columns (total 2 columns):\n",
      " #   Column       Non-Null Count  Dtype  \n",
      "---  ------       --------------  -----  \n",
      " 0   datetime     27552 non-null  object \n",
      " 1   Demand (MW)  27552 non-null  float64\n",
      "dtypes: float64(1), object(1)\n",
      "memory usage: 430.6+ KB\n"
     ]
    }
   ],
   "source": [
    "df_demand.info()"
   ]
  },
  {
   "cell_type": "code",
   "execution_count": 35,
   "metadata": {},
   "outputs": [
    {
     "data": {
      "text/html": [
       "<div>\n",
       "<style scoped>\n",
       "    .dataframe tbody tr th:only-of-type {\n",
       "        vertical-align: middle;\n",
       "    }\n",
       "\n",
       "    .dataframe tbody tr th {\n",
       "        vertical-align: top;\n",
       "    }\n",
       "\n",
       "    .dataframe thead th {\n",
       "        text-align: right;\n",
       "    }\n",
       "</style>\n",
       "<table border=\"1\" class=\"dataframe\">\n",
       "  <thead>\n",
       "    <tr style=\"text-align: right;\">\n",
       "      <th></th>\n",
       "      <th>datetime</th>\n",
       "      <th>Demand (MW)</th>\n",
       "      <th>Name</th>\n",
       "      <th>Temperature</th>\n",
       "      <th>feelslike</th>\n",
       "      <th>dewpoint</th>\n",
       "      <th>humidity</th>\n",
       "      <th>precipitation</th>\n",
       "      <th>precipprob</th>\n",
       "      <th>preciptype</th>\n",
       "      <th>...</th>\n",
       "      <th>visibility</th>\n",
       "      <th>solarradiation</th>\n",
       "      <th>uvindex</th>\n",
       "      <th>severerisk</th>\n",
       "      <th>conditions</th>\n",
       "      <th>Unnamed: 21</th>\n",
       "      <th>Unnamed: 22</th>\n",
       "      <th>Unnamed: 23</th>\n",
       "      <th>Unnamed: 24</th>\n",
       "      <th>Unnamed: 25</th>\n",
       "    </tr>\n",
       "  </thead>\n",
       "  <tbody>\n",
       "    <tr>\n",
       "      <th>0</th>\n",
       "      <td>1/1/2020 0:00</td>\n",
       "      <td>445.8</td>\n",
       "      <td>Pokhara</td>\n",
       "      <td>38.0</td>\n",
       "      <td>34.4</td>\n",
       "      <td>29.0</td>\n",
       "      <td>69.76</td>\n",
       "      <td>0.0</td>\n",
       "      <td>0</td>\n",
       "      <td>NaN</td>\n",
       "      <td>...</td>\n",
       "      <td>9.9</td>\n",
       "      <td>0.0</td>\n",
       "      <td>0</td>\n",
       "      <td>NaN</td>\n",
       "      <td>Overcast</td>\n",
       "      <td>NaN</td>\n",
       "      <td>NaN</td>\n",
       "      <td>NaN</td>\n",
       "      <td>NaN</td>\n",
       "      <td>NaN</td>\n",
       "    </tr>\n",
       "    <tr>\n",
       "      <th>1</th>\n",
       "      <td>1/1/2020 1:00</td>\n",
       "      <td>424.5</td>\n",
       "      <td>Pokhara</td>\n",
       "      <td>38.0</td>\n",
       "      <td>34.4</td>\n",
       "      <td>29.9</td>\n",
       "      <td>72.37</td>\n",
       "      <td>0.0</td>\n",
       "      <td>0</td>\n",
       "      <td>NaN</td>\n",
       "      <td>...</td>\n",
       "      <td>9.9</td>\n",
       "      <td>0.0</td>\n",
       "      <td>0</td>\n",
       "      <td>NaN</td>\n",
       "      <td>Overcast</td>\n",
       "      <td>NaN</td>\n",
       "      <td>NaN</td>\n",
       "      <td>NaN</td>\n",
       "      <td>NaN</td>\n",
       "      <td>NaN</td>\n",
       "    </tr>\n",
       "    <tr>\n",
       "      <th>2</th>\n",
       "      <td>1/1/2020 2:00</td>\n",
       "      <td>423.5</td>\n",
       "      <td>Pokhara</td>\n",
       "      <td>38.0</td>\n",
       "      <td>35.7</td>\n",
       "      <td>30.8</td>\n",
       "      <td>75.06</td>\n",
       "      <td>0.0</td>\n",
       "      <td>0</td>\n",
       "      <td>NaN</td>\n",
       "      <td>...</td>\n",
       "      <td>9.9</td>\n",
       "      <td>0.0</td>\n",
       "      <td>0</td>\n",
       "      <td>NaN</td>\n",
       "      <td>Overcast</td>\n",
       "      <td>NaN</td>\n",
       "      <td>NaN</td>\n",
       "      <td>NaN</td>\n",
       "      <td>NaN</td>\n",
       "      <td>NaN</td>\n",
       "    </tr>\n",
       "    <tr>\n",
       "      <th>3</th>\n",
       "      <td>1/1/2020 3:00</td>\n",
       "      <td>418.8</td>\n",
       "      <td>Pokhara</td>\n",
       "      <td>37.1</td>\n",
       "      <td>33.4</td>\n",
       "      <td>29.9</td>\n",
       "      <td>74.97</td>\n",
       "      <td>0.0</td>\n",
       "      <td>0</td>\n",
       "      <td>NaN</td>\n",
       "      <td>...</td>\n",
       "      <td>9.9</td>\n",
       "      <td>0.0</td>\n",
       "      <td>0</td>\n",
       "      <td>NaN</td>\n",
       "      <td>Partially cloudy</td>\n",
       "      <td>NaN</td>\n",
       "      <td>NaN</td>\n",
       "      <td>NaN</td>\n",
       "      <td>NaN</td>\n",
       "      <td>NaN</td>\n",
       "    </tr>\n",
       "    <tr>\n",
       "      <th>4</th>\n",
       "      <td>1/1/2020 4:00</td>\n",
       "      <td>414.8</td>\n",
       "      <td>Pokhara</td>\n",
       "      <td>35.1</td>\n",
       "      <td>32.3</td>\n",
       "      <td>29.0</td>\n",
       "      <td>78.41</td>\n",
       "      <td>0.0</td>\n",
       "      <td>0</td>\n",
       "      <td>NaN</td>\n",
       "      <td>...</td>\n",
       "      <td>9.9</td>\n",
       "      <td>0.0</td>\n",
       "      <td>0</td>\n",
       "      <td>NaN</td>\n",
       "      <td>Clear</td>\n",
       "      <td>NaN</td>\n",
       "      <td>NaN</td>\n",
       "      <td>NaN</td>\n",
       "      <td>NaN</td>\n",
       "      <td>NaN</td>\n",
       "    </tr>\n",
       "    <tr>\n",
       "      <th>...</th>\n",
       "      <td>...</td>\n",
       "      <td>...</td>\n",
       "      <td>...</td>\n",
       "      <td>...</td>\n",
       "      <td>...</td>\n",
       "      <td>...</td>\n",
       "      <td>...</td>\n",
       "      <td>...</td>\n",
       "      <td>...</td>\n",
       "      <td>...</td>\n",
       "      <td>...</td>\n",
       "      <td>...</td>\n",
       "      <td>...</td>\n",
       "      <td>...</td>\n",
       "      <td>...</td>\n",
       "      <td>...</td>\n",
       "      <td>...</td>\n",
       "      <td>...</td>\n",
       "      <td>...</td>\n",
       "      <td>...</td>\n",
       "      <td>...</td>\n",
       "    </tr>\n",
       "    <tr>\n",
       "      <th>27547</th>\n",
       "      <td>2/21/2023 19:00</td>\n",
       "      <td>498.7</td>\n",
       "      <td>Pokhara</td>\n",
       "      <td>50.0</td>\n",
       "      <td>49.4</td>\n",
       "      <td>29.0</td>\n",
       "      <td>44.19</td>\n",
       "      <td>0.0</td>\n",
       "      <td>0</td>\n",
       "      <td>NaN</td>\n",
       "      <td>...</td>\n",
       "      <td>9.9</td>\n",
       "      <td>0.0</td>\n",
       "      <td>0</td>\n",
       "      <td>10.0</td>\n",
       "      <td>Partially cloudy</td>\n",
       "      <td>NaN</td>\n",
       "      <td>NaN</td>\n",
       "      <td>NaN</td>\n",
       "      <td>NaN</td>\n",
       "      <td>NaN</td>\n",
       "    </tr>\n",
       "    <tr>\n",
       "      <th>27548</th>\n",
       "      <td>2/21/2023 20:00</td>\n",
       "      <td>498.8</td>\n",
       "      <td>Pokhara</td>\n",
       "      <td>50.0</td>\n",
       "      <td>49.4</td>\n",
       "      <td>28.1</td>\n",
       "      <td>42.59</td>\n",
       "      <td>0.0</td>\n",
       "      <td>0</td>\n",
       "      <td>NaN</td>\n",
       "      <td>...</td>\n",
       "      <td>9.9</td>\n",
       "      <td>0.0</td>\n",
       "      <td>0</td>\n",
       "      <td>10.0</td>\n",
       "      <td>Partially cloudy</td>\n",
       "      <td>NaN</td>\n",
       "      <td>NaN</td>\n",
       "      <td>NaN</td>\n",
       "      <td>NaN</td>\n",
       "      <td>NaN</td>\n",
       "    </tr>\n",
       "    <tr>\n",
       "      <th>27549</th>\n",
       "      <td>2/21/2023 21:00</td>\n",
       "      <td>506.4</td>\n",
       "      <td>Pokhara</td>\n",
       "      <td>53.1</td>\n",
       "      <td>53.1</td>\n",
       "      <td>26.1</td>\n",
       "      <td>34.92</td>\n",
       "      <td>0.0</td>\n",
       "      <td>0</td>\n",
       "      <td>NaN</td>\n",
       "      <td>...</td>\n",
       "      <td>9.9</td>\n",
       "      <td>0.0</td>\n",
       "      <td>0</td>\n",
       "      <td>10.0</td>\n",
       "      <td>Overcast</td>\n",
       "      <td>NaN</td>\n",
       "      <td>NaN</td>\n",
       "      <td>NaN</td>\n",
       "      <td>NaN</td>\n",
       "      <td>NaN</td>\n",
       "    </tr>\n",
       "    <tr>\n",
       "      <th>27550</th>\n",
       "      <td>2/21/2023 22:00</td>\n",
       "      <td>478.8</td>\n",
       "      <td>Pokhara</td>\n",
       "      <td>53.1</td>\n",
       "      <td>53.1</td>\n",
       "      <td>28.1</td>\n",
       "      <td>38.02</td>\n",
       "      <td>0.0</td>\n",
       "      <td>0</td>\n",
       "      <td>NaN</td>\n",
       "      <td>...</td>\n",
       "      <td>9.9</td>\n",
       "      <td>0.0</td>\n",
       "      <td>0</td>\n",
       "      <td>10.0</td>\n",
       "      <td>Overcast</td>\n",
       "      <td>NaN</td>\n",
       "      <td>NaN</td>\n",
       "      <td>NaN</td>\n",
       "      <td>NaN</td>\n",
       "      <td>NaN</td>\n",
       "    </tr>\n",
       "    <tr>\n",
       "      <th>27551</th>\n",
       "      <td>2/21/2023 23:00</td>\n",
       "      <td>457.7</td>\n",
       "      <td>Pokhara</td>\n",
       "      <td>53.1</td>\n",
       "      <td>53.1</td>\n",
       "      <td>30.8</td>\n",
       "      <td>42.44</td>\n",
       "      <td>0.0</td>\n",
       "      <td>0</td>\n",
       "      <td>NaN</td>\n",
       "      <td>...</td>\n",
       "      <td>9.9</td>\n",
       "      <td>0.0</td>\n",
       "      <td>0</td>\n",
       "      <td>10.0</td>\n",
       "      <td>Overcast</td>\n",
       "      <td>NaN</td>\n",
       "      <td>NaN</td>\n",
       "      <td>NaN</td>\n",
       "      <td>NaN</td>\n",
       "      <td>NaN</td>\n",
       "    </tr>\n",
       "  </tbody>\n",
       "</table>\n",
       "<p>27552 rows × 27 columns</p>\n",
       "</div>"
      ],
      "text/plain": [
       "              datetime  Demand (MW)     Name  Temperature  feelslike  \\\n",
       "0        1/1/2020 0:00        445.8  Pokhara         38.0       34.4   \n",
       "1        1/1/2020 1:00        424.5  Pokhara         38.0       34.4   \n",
       "2        1/1/2020 2:00        423.5  Pokhara         38.0       35.7   \n",
       "3        1/1/2020 3:00        418.8  Pokhara         37.1       33.4   \n",
       "4        1/1/2020 4:00        414.8  Pokhara         35.1       32.3   \n",
       "...                ...          ...      ...          ...        ...   \n",
       "27547  2/21/2023 19:00        498.7  Pokhara         50.0       49.4   \n",
       "27548  2/21/2023 20:00        498.8  Pokhara         50.0       49.4   \n",
       "27549  2/21/2023 21:00        506.4  Pokhara         53.1       53.1   \n",
       "27550  2/21/2023 22:00        478.8  Pokhara         53.1       53.1   \n",
       "27551  2/21/2023 23:00        457.7  Pokhara         53.1       53.1   \n",
       "\n",
       "       dewpoint  humidity  precipitation  precipprob preciptype  ...  \\\n",
       "0          29.0     69.76            0.0           0        NaN  ...   \n",
       "1          29.9     72.37            0.0           0        NaN  ...   \n",
       "2          30.8     75.06            0.0           0        NaN  ...   \n",
       "3          29.9     74.97            0.0           0        NaN  ...   \n",
       "4          29.0     78.41            0.0           0        NaN  ...   \n",
       "...         ...       ...            ...         ...        ...  ...   \n",
       "27547      29.0     44.19            0.0           0        NaN  ...   \n",
       "27548      28.1     42.59            0.0           0        NaN  ...   \n",
       "27549      26.1     34.92            0.0           0        NaN  ...   \n",
       "27550      28.1     38.02            0.0           0        NaN  ...   \n",
       "27551      30.8     42.44            0.0           0        NaN  ...   \n",
       "\n",
       "       visibility  solarradiation  uvindex  severerisk        conditions  \\\n",
       "0             9.9             0.0        0         NaN          Overcast   \n",
       "1             9.9             0.0        0         NaN          Overcast   \n",
       "2             9.9             0.0        0         NaN          Overcast   \n",
       "3             9.9             0.0        0         NaN  Partially cloudy   \n",
       "4             9.9             0.0        0         NaN             Clear   \n",
       "...           ...             ...      ...         ...               ...   \n",
       "27547         9.9             0.0        0        10.0  Partially cloudy   \n",
       "27548         9.9             0.0        0        10.0  Partially cloudy   \n",
       "27549         9.9             0.0        0        10.0          Overcast   \n",
       "27550         9.9             0.0        0        10.0          Overcast   \n",
       "27551         9.9             0.0        0        10.0          Overcast   \n",
       "\n",
       "       Unnamed: 21  Unnamed: 22  Unnamed: 23  Unnamed: 24  Unnamed: 25  \n",
       "0              NaN          NaN          NaN          NaN          NaN  \n",
       "1              NaN          NaN          NaN          NaN          NaN  \n",
       "2              NaN          NaN          NaN          NaN          NaN  \n",
       "3              NaN          NaN          NaN          NaN          NaN  \n",
       "4              NaN          NaN          NaN          NaN          NaN  \n",
       "...            ...          ...          ...          ...          ...  \n",
       "27547          NaN          NaN          NaN          NaN          NaN  \n",
       "27548          NaN          NaN          NaN          NaN          NaN  \n",
       "27549          NaN          NaN          NaN          NaN          NaN  \n",
       "27550          NaN          NaN          NaN          NaN          NaN  \n",
       "27551          NaN          NaN          NaN          NaN          NaN  \n",
       "\n",
       "[27552 rows x 27 columns]"
      ]
     },
     "execution_count": 35,
     "metadata": {},
     "output_type": "execute_result"
    }
   ],
   "source": [
    "df_merged"
   ]
  },
  {
   "cell_type": "code",
   "execution_count": 36,
   "metadata": {},
   "outputs": [
    {
     "data": {
      "text/html": [
       "<div>\n",
       "<style scoped>\n",
       "    .dataframe tbody tr th:only-of-type {\n",
       "        vertical-align: middle;\n",
       "    }\n",
       "\n",
       "    .dataframe tbody tr th {\n",
       "        vertical-align: top;\n",
       "    }\n",
       "\n",
       "    .dataframe thead th {\n",
       "        text-align: right;\n",
       "    }\n",
       "</style>\n",
       "<table border=\"1\" class=\"dataframe\">\n",
       "  <thead>\n",
       "    <tr style=\"text-align: right;\">\n",
       "      <th></th>\n",
       "      <th>datetime</th>\n",
       "      <th>Demand (MW)</th>\n",
       "      <th>Name</th>\n",
       "      <th>Temperature</th>\n",
       "      <th>feelslike</th>\n",
       "      <th>dewpoint</th>\n",
       "      <th>humidity</th>\n",
       "      <th>precipitation</th>\n",
       "      <th>precipprob</th>\n",
       "      <th>preciptype</th>\n",
       "      <th>...</th>\n",
       "      <th>visibility</th>\n",
       "      <th>solarradiation</th>\n",
       "      <th>uvindex</th>\n",
       "      <th>severerisk</th>\n",
       "      <th>conditions</th>\n",
       "      <th>Unnamed: 21</th>\n",
       "      <th>Unnamed: 22</th>\n",
       "      <th>Unnamed: 23</th>\n",
       "      <th>Unnamed: 24</th>\n",
       "      <th>Unnamed: 25</th>\n",
       "    </tr>\n",
       "  </thead>\n",
       "  <tbody>\n",
       "    <tr>\n",
       "      <th>0</th>\n",
       "      <td>1/1/2020 0:00</td>\n",
       "      <td>445.8</td>\n",
       "      <td>Pokhara</td>\n",
       "      <td>38.0</td>\n",
       "      <td>34.4</td>\n",
       "      <td>29.0</td>\n",
       "      <td>69.76</td>\n",
       "      <td>0.0</td>\n",
       "      <td>0</td>\n",
       "      <td>NaN</td>\n",
       "      <td>...</td>\n",
       "      <td>9.9</td>\n",
       "      <td>0.0</td>\n",
       "      <td>0</td>\n",
       "      <td>NaN</td>\n",
       "      <td>Overcast</td>\n",
       "      <td>NaN</td>\n",
       "      <td>NaN</td>\n",
       "      <td>NaN</td>\n",
       "      <td>NaN</td>\n",
       "      <td>NaN</td>\n",
       "    </tr>\n",
       "    <tr>\n",
       "      <th>1</th>\n",
       "      <td>1/1/2020 1:00</td>\n",
       "      <td>424.5</td>\n",
       "      <td>Pokhara</td>\n",
       "      <td>38.0</td>\n",
       "      <td>34.4</td>\n",
       "      <td>29.9</td>\n",
       "      <td>72.37</td>\n",
       "      <td>0.0</td>\n",
       "      <td>0</td>\n",
       "      <td>NaN</td>\n",
       "      <td>...</td>\n",
       "      <td>9.9</td>\n",
       "      <td>0.0</td>\n",
       "      <td>0</td>\n",
       "      <td>NaN</td>\n",
       "      <td>Overcast</td>\n",
       "      <td>NaN</td>\n",
       "      <td>NaN</td>\n",
       "      <td>NaN</td>\n",
       "      <td>NaN</td>\n",
       "      <td>NaN</td>\n",
       "    </tr>\n",
       "    <tr>\n",
       "      <th>2</th>\n",
       "      <td>1/1/2020 2:00</td>\n",
       "      <td>423.5</td>\n",
       "      <td>Pokhara</td>\n",
       "      <td>38.0</td>\n",
       "      <td>35.7</td>\n",
       "      <td>30.8</td>\n",
       "      <td>75.06</td>\n",
       "      <td>0.0</td>\n",
       "      <td>0</td>\n",
       "      <td>NaN</td>\n",
       "      <td>...</td>\n",
       "      <td>9.9</td>\n",
       "      <td>0.0</td>\n",
       "      <td>0</td>\n",
       "      <td>NaN</td>\n",
       "      <td>Overcast</td>\n",
       "      <td>NaN</td>\n",
       "      <td>NaN</td>\n",
       "      <td>NaN</td>\n",
       "      <td>NaN</td>\n",
       "      <td>NaN</td>\n",
       "    </tr>\n",
       "    <tr>\n",
       "      <th>3</th>\n",
       "      <td>1/1/2020 3:00</td>\n",
       "      <td>418.8</td>\n",
       "      <td>Pokhara</td>\n",
       "      <td>37.1</td>\n",
       "      <td>33.4</td>\n",
       "      <td>29.9</td>\n",
       "      <td>74.97</td>\n",
       "      <td>0.0</td>\n",
       "      <td>0</td>\n",
       "      <td>NaN</td>\n",
       "      <td>...</td>\n",
       "      <td>9.9</td>\n",
       "      <td>0.0</td>\n",
       "      <td>0</td>\n",
       "      <td>NaN</td>\n",
       "      <td>Partially cloudy</td>\n",
       "      <td>NaN</td>\n",
       "      <td>NaN</td>\n",
       "      <td>NaN</td>\n",
       "      <td>NaN</td>\n",
       "      <td>NaN</td>\n",
       "    </tr>\n",
       "    <tr>\n",
       "      <th>4</th>\n",
       "      <td>1/1/2020 4:00</td>\n",
       "      <td>414.8</td>\n",
       "      <td>Pokhara</td>\n",
       "      <td>35.1</td>\n",
       "      <td>32.3</td>\n",
       "      <td>29.0</td>\n",
       "      <td>78.41</td>\n",
       "      <td>0.0</td>\n",
       "      <td>0</td>\n",
       "      <td>NaN</td>\n",
       "      <td>...</td>\n",
       "      <td>9.9</td>\n",
       "      <td>0.0</td>\n",
       "      <td>0</td>\n",
       "      <td>NaN</td>\n",
       "      <td>Clear</td>\n",
       "      <td>NaN</td>\n",
       "      <td>NaN</td>\n",
       "      <td>NaN</td>\n",
       "      <td>NaN</td>\n",
       "      <td>NaN</td>\n",
       "    </tr>\n",
       "  </tbody>\n",
       "</table>\n",
       "<p>5 rows × 27 columns</p>\n",
       "</div>"
      ],
      "text/plain": [
       "        datetime  Demand (MW)     Name  Temperature  feelslike  dewpoint  \\\n",
       "0  1/1/2020 0:00        445.8  Pokhara         38.0       34.4      29.0   \n",
       "1  1/1/2020 1:00        424.5  Pokhara         38.0       34.4      29.9   \n",
       "2  1/1/2020 2:00        423.5  Pokhara         38.0       35.7      30.8   \n",
       "3  1/1/2020 3:00        418.8  Pokhara         37.1       33.4      29.9   \n",
       "4  1/1/2020 4:00        414.8  Pokhara         35.1       32.3      29.0   \n",
       "\n",
       "   humidity  precipitation  precipprob preciptype  ...  visibility  \\\n",
       "0     69.76            0.0           0        NaN  ...         9.9   \n",
       "1     72.37            0.0           0        NaN  ...         9.9   \n",
       "2     75.06            0.0           0        NaN  ...         9.9   \n",
       "3     74.97            0.0           0        NaN  ...         9.9   \n",
       "4     78.41            0.0           0        NaN  ...         9.9   \n",
       "\n",
       "   solarradiation  uvindex  severerisk        conditions  Unnamed: 21  \\\n",
       "0             0.0        0         NaN          Overcast          NaN   \n",
       "1             0.0        0         NaN          Overcast          NaN   \n",
       "2             0.0        0         NaN          Overcast          NaN   \n",
       "3             0.0        0         NaN  Partially cloudy          NaN   \n",
       "4             0.0        0         NaN             Clear          NaN   \n",
       "\n",
       "   Unnamed: 22  Unnamed: 23  Unnamed: 24  Unnamed: 25  \n",
       "0          NaN          NaN          NaN          NaN  \n",
       "1          NaN          NaN          NaN          NaN  \n",
       "2          NaN          NaN          NaN          NaN  \n",
       "3          NaN          NaN          NaN          NaN  \n",
       "4          NaN          NaN          NaN          NaN  \n",
       "\n",
       "[5 rows x 27 columns]"
      ]
     },
     "execution_count": 36,
     "metadata": {},
     "output_type": "execute_result"
    }
   ],
   "source": [
    "df_merged.head()"
   ]
  },
  {
   "cell_type": "markdown",
   "metadata": {},
   "source": [
    "Checing if Unnamed columns have any data"
   ]
  },
  {
   "cell_type": "code",
   "execution_count": 37,
   "metadata": {},
   "outputs": [
    {
     "data": {
      "text/plain": [
       "Unnamed: 21\n",
       "False    27552\n",
       "Name: count, dtype: int64"
      ]
     },
     "execution_count": 37,
     "metadata": {},
     "output_type": "execute_result"
    }
   ],
   "source": [
    "df_merged['Unnamed: 21'].notna().value_counts()"
   ]
  },
  {
   "cell_type": "code",
   "execution_count": 38,
   "metadata": {},
   "outputs": [
    {
     "data": {
      "text/plain": [
       "Unnamed: 22\n",
       "False    27552\n",
       "Name: count, dtype: int64"
      ]
     },
     "execution_count": 38,
     "metadata": {},
     "output_type": "execute_result"
    }
   ],
   "source": [
    "df_merged['Unnamed: 22'].notna().value_counts()"
   ]
  },
  {
   "cell_type": "code",
   "execution_count": 39,
   "metadata": {},
   "outputs": [
    {
     "data": {
      "text/plain": [
       "Unnamed: 23\n",
       "False    27552\n",
       "Name: count, dtype: int64"
      ]
     },
     "execution_count": 39,
     "metadata": {},
     "output_type": "execute_result"
    }
   ],
   "source": [
    "df_merged['Unnamed: 23'].notna().value_counts()"
   ]
  },
  {
   "cell_type": "code",
   "execution_count": 40,
   "metadata": {},
   "outputs": [
    {
     "data": {
      "text/plain": [
       "Unnamed: 24\n",
       "False    27552\n",
       "Name: count, dtype: int64"
      ]
     },
     "execution_count": 40,
     "metadata": {},
     "output_type": "execute_result"
    }
   ],
   "source": [
    "df_merged['Unnamed: 24'].notna().value_counts()"
   ]
  },
  {
   "cell_type": "code",
   "execution_count": 41,
   "metadata": {},
   "outputs": [
    {
     "data": {
      "text/plain": [
       "Unnamed: 25\n",
       "False    27551\n",
       "True         1\n",
       "Name: count, dtype: int64"
      ]
     },
     "execution_count": 41,
     "metadata": {},
     "output_type": "execute_result"
    }
   ],
   "source": [
    "df_merged['Unnamed: 25'].notna().value_counts()"
   ]
  },
  {
   "cell_type": "markdown",
   "metadata": {},
   "source": [
    "Since, there's no data we can remove them"
   ]
  },
  {
   "cell_type": "code",
   "execution_count": 42,
   "metadata": {},
   "outputs": [],
   "source": [
    "columns_to_drop = ['Unnamed: 21', 'Unnamed: 22', 'Unnamed: 23', 'Unnamed: 24', 'Unnamed: 25']\n",
    "df_merged.drop(columns_to_drop, inplace=True, axis=1)"
   ]
  },
  {
   "cell_type": "code",
   "execution_count": 43,
   "metadata": {},
   "outputs": [
    {
     "data": {
      "text/html": [
       "<div>\n",
       "<style scoped>\n",
       "    .dataframe tbody tr th:only-of-type {\n",
       "        vertical-align: middle;\n",
       "    }\n",
       "\n",
       "    .dataframe tbody tr th {\n",
       "        vertical-align: top;\n",
       "    }\n",
       "\n",
       "    .dataframe thead th {\n",
       "        text-align: right;\n",
       "    }\n",
       "</style>\n",
       "<table border=\"1\" class=\"dataframe\">\n",
       "  <thead>\n",
       "    <tr style=\"text-align: right;\">\n",
       "      <th></th>\n",
       "      <th>datetime</th>\n",
       "      <th>Demand (MW)</th>\n",
       "      <th>Name</th>\n",
       "      <th>Temperature</th>\n",
       "      <th>feelslike</th>\n",
       "      <th>dewpoint</th>\n",
       "      <th>humidity</th>\n",
       "      <th>precipitation</th>\n",
       "      <th>precipprob</th>\n",
       "      <th>preciptype</th>\n",
       "      <th>...</th>\n",
       "      <th>windgust</th>\n",
       "      <th>windspeed</th>\n",
       "      <th>winddirection</th>\n",
       "      <th>sealevelpressure</th>\n",
       "      <th>cloudcover</th>\n",
       "      <th>visibility</th>\n",
       "      <th>solarradiation</th>\n",
       "      <th>uvindex</th>\n",
       "      <th>severerisk</th>\n",
       "      <th>conditions</th>\n",
       "    </tr>\n",
       "  </thead>\n",
       "  <tbody>\n",
       "    <tr>\n",
       "      <th>0</th>\n",
       "      <td>1/1/2020 0:00</td>\n",
       "      <td>445.8</td>\n",
       "      <td>Pokhara</td>\n",
       "      <td>38.0</td>\n",
       "      <td>34.4</td>\n",
       "      <td>29.0</td>\n",
       "      <td>69.76</td>\n",
       "      <td>0.0</td>\n",
       "      <td>0</td>\n",
       "      <td>NaN</td>\n",
       "      <td>...</td>\n",
       "      <td>NaN</td>\n",
       "      <td>4.7</td>\n",
       "      <td>220.0</td>\n",
       "      <td>1015.4</td>\n",
       "      <td>100.0</td>\n",
       "      <td>9.9</td>\n",
       "      <td>0.0</td>\n",
       "      <td>0</td>\n",
       "      <td>NaN</td>\n",
       "      <td>Overcast</td>\n",
       "    </tr>\n",
       "    <tr>\n",
       "      <th>1</th>\n",
       "      <td>1/1/2020 1:00</td>\n",
       "      <td>424.5</td>\n",
       "      <td>Pokhara</td>\n",
       "      <td>38.0</td>\n",
       "      <td>34.4</td>\n",
       "      <td>29.9</td>\n",
       "      <td>72.37</td>\n",
       "      <td>0.0</td>\n",
       "      <td>0</td>\n",
       "      <td>NaN</td>\n",
       "      <td>...</td>\n",
       "      <td>NaN</td>\n",
       "      <td>4.7</td>\n",
       "      <td>230.0</td>\n",
       "      <td>1015.3</td>\n",
       "      <td>100.0</td>\n",
       "      <td>9.9</td>\n",
       "      <td>0.0</td>\n",
       "      <td>0</td>\n",
       "      <td>NaN</td>\n",
       "      <td>Overcast</td>\n",
       "    </tr>\n",
       "    <tr>\n",
       "      <th>2</th>\n",
       "      <td>1/1/2020 2:00</td>\n",
       "      <td>423.5</td>\n",
       "      <td>Pokhara</td>\n",
       "      <td>38.0</td>\n",
       "      <td>35.7</td>\n",
       "      <td>30.8</td>\n",
       "      <td>75.06</td>\n",
       "      <td>0.0</td>\n",
       "      <td>0</td>\n",
       "      <td>NaN</td>\n",
       "      <td>...</td>\n",
       "      <td>NaN</td>\n",
       "      <td>3.4</td>\n",
       "      <td>230.0</td>\n",
       "      <td>1015.4</td>\n",
       "      <td>100.0</td>\n",
       "      <td>9.9</td>\n",
       "      <td>0.0</td>\n",
       "      <td>0</td>\n",
       "      <td>NaN</td>\n",
       "      <td>Overcast</td>\n",
       "    </tr>\n",
       "    <tr>\n",
       "      <th>3</th>\n",
       "      <td>1/1/2020 3:00</td>\n",
       "      <td>418.8</td>\n",
       "      <td>Pokhara</td>\n",
       "      <td>37.1</td>\n",
       "      <td>33.4</td>\n",
       "      <td>29.9</td>\n",
       "      <td>74.97</td>\n",
       "      <td>0.0</td>\n",
       "      <td>0</td>\n",
       "      <td>NaN</td>\n",
       "      <td>...</td>\n",
       "      <td>NaN</td>\n",
       "      <td>4.7</td>\n",
       "      <td>220.0</td>\n",
       "      <td>1015.3</td>\n",
       "      <td>88.9</td>\n",
       "      <td>9.9</td>\n",
       "      <td>0.0</td>\n",
       "      <td>0</td>\n",
       "      <td>NaN</td>\n",
       "      <td>Partially cloudy</td>\n",
       "    </tr>\n",
       "    <tr>\n",
       "      <th>4</th>\n",
       "      <td>1/1/2020 4:00</td>\n",
       "      <td>414.8</td>\n",
       "      <td>Pokhara</td>\n",
       "      <td>35.1</td>\n",
       "      <td>32.3</td>\n",
       "      <td>29.0</td>\n",
       "      <td>78.41</td>\n",
       "      <td>0.0</td>\n",
       "      <td>0</td>\n",
       "      <td>NaN</td>\n",
       "      <td>...</td>\n",
       "      <td>NaN</td>\n",
       "      <td>3.4</td>\n",
       "      <td>240.0</td>\n",
       "      <td>1015.2</td>\n",
       "      <td>0.0</td>\n",
       "      <td>9.9</td>\n",
       "      <td>0.0</td>\n",
       "      <td>0</td>\n",
       "      <td>NaN</td>\n",
       "      <td>Clear</td>\n",
       "    </tr>\n",
       "  </tbody>\n",
       "</table>\n",
       "<p>5 rows × 22 columns</p>\n",
       "</div>"
      ],
      "text/plain": [
       "        datetime  Demand (MW)     Name  Temperature  feelslike  dewpoint  \\\n",
       "0  1/1/2020 0:00        445.8  Pokhara         38.0       34.4      29.0   \n",
       "1  1/1/2020 1:00        424.5  Pokhara         38.0       34.4      29.9   \n",
       "2  1/1/2020 2:00        423.5  Pokhara         38.0       35.7      30.8   \n",
       "3  1/1/2020 3:00        418.8  Pokhara         37.1       33.4      29.9   \n",
       "4  1/1/2020 4:00        414.8  Pokhara         35.1       32.3      29.0   \n",
       "\n",
       "   humidity  precipitation  precipprob preciptype  ...  windgust  windspeed  \\\n",
       "0     69.76            0.0           0        NaN  ...       NaN        4.7   \n",
       "1     72.37            0.0           0        NaN  ...       NaN        4.7   \n",
       "2     75.06            0.0           0        NaN  ...       NaN        3.4   \n",
       "3     74.97            0.0           0        NaN  ...       NaN        4.7   \n",
       "4     78.41            0.0           0        NaN  ...       NaN        3.4   \n",
       "\n",
       "   winddirection  sealevelpressure  cloudcover  visibility  solarradiation  \\\n",
       "0          220.0            1015.4       100.0         9.9             0.0   \n",
       "1          230.0            1015.3       100.0         9.9             0.0   \n",
       "2          230.0            1015.4       100.0         9.9             0.0   \n",
       "3          220.0            1015.3        88.9         9.9             0.0   \n",
       "4          240.0            1015.2         0.0         9.9             0.0   \n",
       "\n",
       "   uvindex  severerisk        conditions  \n",
       "0        0         NaN          Overcast  \n",
       "1        0         NaN          Overcast  \n",
       "2        0         NaN          Overcast  \n",
       "3        0         NaN  Partially cloudy  \n",
       "4        0         NaN             Clear  \n",
       "\n",
       "[5 rows x 22 columns]"
      ]
     },
     "execution_count": 43,
     "metadata": {},
     "output_type": "execute_result"
    }
   ],
   "source": [
    "df_merged.head()"
   ]
  },
  {
   "cell_type": "code",
   "execution_count": 44,
   "metadata": {},
   "outputs": [
    {
     "name": "stdout",
     "output_type": "stream",
     "text": [
      "<class 'pandas.core.frame.DataFrame'>\n",
      "RangeIndex: 27552 entries, 0 to 27551\n",
      "Data columns (total 22 columns):\n",
      " #   Column            Non-Null Count  Dtype  \n",
      "---  ------            --------------  -----  \n",
      " 0   datetime          27552 non-null  object \n",
      " 1   Demand (MW)       27552 non-null  float64\n",
      " 2   Name              27552 non-null  object \n",
      " 3   Temperature       27552 non-null  float64\n",
      " 4   feelslike         27552 non-null  float64\n",
      " 5   dewpoint          27552 non-null  float64\n",
      " 6   humidity          27552 non-null  float64\n",
      " 7   precipitation     27552 non-null  float64\n",
      " 8   precipprob        27552 non-null  int64  \n",
      " 9   preciptype        2745 non-null   object \n",
      " 10  snow              27534 non-null  float64\n",
      " 11  snowdepth         27534 non-null  float64\n",
      " 12  windgust          12055 non-null  float64\n",
      " 13  windspeed         27552 non-null  float64\n",
      " 14  winddirection     27552 non-null  float64\n",
      " 15  sealevelpressure  27534 non-null  float64\n",
      " 16  cloudcover        27552 non-null  float64\n",
      " 17  visibility        27534 non-null  float64\n",
      " 18  solarradiation    27552 non-null  float64\n",
      " 19  uvindex           27552 non-null  int64  \n",
      " 20  severerisk        9786 non-null   float64\n",
      " 21  conditions        27552 non-null  object \n",
      "dtypes: float64(16), int64(2), object(4)\n",
      "memory usage: 4.6+ MB\n"
     ]
    }
   ],
   "source": [
    "df_merged.info()"
   ]
  },
  {
   "cell_type": "code",
   "execution_count": 45,
   "metadata": {},
   "outputs": [],
   "source": [
    "df_merged['severerisk'].fillna(0, inplace=True)"
   ]
  },
  {
   "cell_type": "code",
   "execution_count": 46,
   "metadata": {},
   "outputs": [],
   "source": [
    "df_merged.drop([\"precipprob\", \"preciptype\" ], inplace=True, axis=1)"
   ]
  },
  {
   "cell_type": "code",
   "execution_count": 47,
   "metadata": {},
   "outputs": [
    {
     "data": {
      "text/html": [
       "<div>\n",
       "<style scoped>\n",
       "    .dataframe tbody tr th:only-of-type {\n",
       "        vertical-align: middle;\n",
       "    }\n",
       "\n",
       "    .dataframe tbody tr th {\n",
       "        vertical-align: top;\n",
       "    }\n",
       "\n",
       "    .dataframe thead th {\n",
       "        text-align: right;\n",
       "    }\n",
       "</style>\n",
       "<table border=\"1\" class=\"dataframe\">\n",
       "  <thead>\n",
       "    <tr style=\"text-align: right;\">\n",
       "      <th></th>\n",
       "      <th>datetime</th>\n",
       "      <th>Demand (MW)</th>\n",
       "      <th>Name</th>\n",
       "      <th>Temperature</th>\n",
       "      <th>feelslike</th>\n",
       "      <th>dewpoint</th>\n",
       "      <th>humidity</th>\n",
       "      <th>precipitation</th>\n",
       "      <th>snow</th>\n",
       "      <th>snowdepth</th>\n",
       "      <th>windgust</th>\n",
       "      <th>windspeed</th>\n",
       "      <th>winddirection</th>\n",
       "      <th>sealevelpressure</th>\n",
       "      <th>cloudcover</th>\n",
       "      <th>visibility</th>\n",
       "      <th>solarradiation</th>\n",
       "      <th>uvindex</th>\n",
       "      <th>severerisk</th>\n",
       "      <th>conditions</th>\n",
       "    </tr>\n",
       "  </thead>\n",
       "  <tbody>\n",
       "    <tr>\n",
       "      <th>0</th>\n",
       "      <td>1/1/2020 0:00</td>\n",
       "      <td>445.8</td>\n",
       "      <td>Pokhara</td>\n",
       "      <td>38.0</td>\n",
       "      <td>34.4</td>\n",
       "      <td>29.0</td>\n",
       "      <td>69.76</td>\n",
       "      <td>0.0</td>\n",
       "      <td>0.0</td>\n",
       "      <td>0.0</td>\n",
       "      <td>NaN</td>\n",
       "      <td>4.7</td>\n",
       "      <td>220.0</td>\n",
       "      <td>1015.4</td>\n",
       "      <td>100.0</td>\n",
       "      <td>9.9</td>\n",
       "      <td>0.0</td>\n",
       "      <td>0</td>\n",
       "      <td>0.0</td>\n",
       "      <td>Overcast</td>\n",
       "    </tr>\n",
       "    <tr>\n",
       "      <th>1</th>\n",
       "      <td>1/1/2020 1:00</td>\n",
       "      <td>424.5</td>\n",
       "      <td>Pokhara</td>\n",
       "      <td>38.0</td>\n",
       "      <td>34.4</td>\n",
       "      <td>29.9</td>\n",
       "      <td>72.37</td>\n",
       "      <td>0.0</td>\n",
       "      <td>0.0</td>\n",
       "      <td>0.0</td>\n",
       "      <td>NaN</td>\n",
       "      <td>4.7</td>\n",
       "      <td>230.0</td>\n",
       "      <td>1015.3</td>\n",
       "      <td>100.0</td>\n",
       "      <td>9.9</td>\n",
       "      <td>0.0</td>\n",
       "      <td>0</td>\n",
       "      <td>0.0</td>\n",
       "      <td>Overcast</td>\n",
       "    </tr>\n",
       "    <tr>\n",
       "      <th>2</th>\n",
       "      <td>1/1/2020 2:00</td>\n",
       "      <td>423.5</td>\n",
       "      <td>Pokhara</td>\n",
       "      <td>38.0</td>\n",
       "      <td>35.7</td>\n",
       "      <td>30.8</td>\n",
       "      <td>75.06</td>\n",
       "      <td>0.0</td>\n",
       "      <td>0.0</td>\n",
       "      <td>0.0</td>\n",
       "      <td>NaN</td>\n",
       "      <td>3.4</td>\n",
       "      <td>230.0</td>\n",
       "      <td>1015.4</td>\n",
       "      <td>100.0</td>\n",
       "      <td>9.9</td>\n",
       "      <td>0.0</td>\n",
       "      <td>0</td>\n",
       "      <td>0.0</td>\n",
       "      <td>Overcast</td>\n",
       "    </tr>\n",
       "    <tr>\n",
       "      <th>3</th>\n",
       "      <td>1/1/2020 3:00</td>\n",
       "      <td>418.8</td>\n",
       "      <td>Pokhara</td>\n",
       "      <td>37.1</td>\n",
       "      <td>33.4</td>\n",
       "      <td>29.9</td>\n",
       "      <td>74.97</td>\n",
       "      <td>0.0</td>\n",
       "      <td>0.0</td>\n",
       "      <td>0.0</td>\n",
       "      <td>NaN</td>\n",
       "      <td>4.7</td>\n",
       "      <td>220.0</td>\n",
       "      <td>1015.3</td>\n",
       "      <td>88.9</td>\n",
       "      <td>9.9</td>\n",
       "      <td>0.0</td>\n",
       "      <td>0</td>\n",
       "      <td>0.0</td>\n",
       "      <td>Partially cloudy</td>\n",
       "    </tr>\n",
       "    <tr>\n",
       "      <th>4</th>\n",
       "      <td>1/1/2020 4:00</td>\n",
       "      <td>414.8</td>\n",
       "      <td>Pokhara</td>\n",
       "      <td>35.1</td>\n",
       "      <td>32.3</td>\n",
       "      <td>29.0</td>\n",
       "      <td>78.41</td>\n",
       "      <td>0.0</td>\n",
       "      <td>0.0</td>\n",
       "      <td>0.0</td>\n",
       "      <td>NaN</td>\n",
       "      <td>3.4</td>\n",
       "      <td>240.0</td>\n",
       "      <td>1015.2</td>\n",
       "      <td>0.0</td>\n",
       "      <td>9.9</td>\n",
       "      <td>0.0</td>\n",
       "      <td>0</td>\n",
       "      <td>0.0</td>\n",
       "      <td>Clear</td>\n",
       "    </tr>\n",
       "  </tbody>\n",
       "</table>\n",
       "</div>"
      ],
      "text/plain": [
       "        datetime  Demand (MW)     Name  Temperature  feelslike  dewpoint  \\\n",
       "0  1/1/2020 0:00        445.8  Pokhara         38.0       34.4      29.0   \n",
       "1  1/1/2020 1:00        424.5  Pokhara         38.0       34.4      29.9   \n",
       "2  1/1/2020 2:00        423.5  Pokhara         38.0       35.7      30.8   \n",
       "3  1/1/2020 3:00        418.8  Pokhara         37.1       33.4      29.9   \n",
       "4  1/1/2020 4:00        414.8  Pokhara         35.1       32.3      29.0   \n",
       "\n",
       "   humidity  precipitation  snow  snowdepth  windgust  windspeed  \\\n",
       "0     69.76            0.0   0.0        0.0       NaN        4.7   \n",
       "1     72.37            0.0   0.0        0.0       NaN        4.7   \n",
       "2     75.06            0.0   0.0        0.0       NaN        3.4   \n",
       "3     74.97            0.0   0.0        0.0       NaN        4.7   \n",
       "4     78.41            0.0   0.0        0.0       NaN        3.4   \n",
       "\n",
       "   winddirection  sealevelpressure  cloudcover  visibility  solarradiation  \\\n",
       "0          220.0            1015.4       100.0         9.9             0.0   \n",
       "1          230.0            1015.3       100.0         9.9             0.0   \n",
       "2          230.0            1015.4       100.0         9.9             0.0   \n",
       "3          220.0            1015.3        88.9         9.9             0.0   \n",
       "4          240.0            1015.2         0.0         9.9             0.0   \n",
       "\n",
       "   uvindex  severerisk        conditions  \n",
       "0        0         0.0          Overcast  \n",
       "1        0         0.0          Overcast  \n",
       "2        0         0.0          Overcast  \n",
       "3        0         0.0  Partially cloudy  \n",
       "4        0         0.0             Clear  "
      ]
     },
     "execution_count": 47,
     "metadata": {},
     "output_type": "execute_result"
    }
   ],
   "source": [
    "df_merged.head()"
   ]
  },
  {
   "cell_type": "code",
   "execution_count": 48,
   "metadata": {},
   "outputs": [
    {
     "data": {
      "text/plain": [
       "0        0.0\n",
       "1        0.0\n",
       "2        0.0\n",
       "3        0.0\n",
       "4        0.0\n",
       "        ... \n",
       "27547    0.0\n",
       "27548    0.0\n",
       "27549    0.0\n",
       "27550    0.0\n",
       "27551    0.0\n",
       "Name: snow, Length: 27552, dtype: float64"
      ]
     },
     "execution_count": 48,
     "metadata": {},
     "output_type": "execute_result"
    }
   ],
   "source": [
    "df_merged['snow']"
   ]
  },
  {
   "cell_type": "code",
   "execution_count": 49,
   "metadata": {},
   "outputs": [
    {
     "data": {
      "text/plain": [
       "0        0.0\n",
       "1        0.0\n",
       "2        0.0\n",
       "3        0.0\n",
       "4        0.0\n",
       "        ... \n",
       "27547    0.0\n",
       "27548    0.0\n",
       "27549    0.0\n",
       "27550    0.0\n",
       "27551    0.0\n",
       "Name: snow, Length: 27552, dtype: float64"
      ]
     },
     "execution_count": 49,
     "metadata": {},
     "output_type": "execute_result"
    }
   ],
   "source": [
    "df_merged['snow']"
   ]
  },
  {
   "cell_type": "code",
   "execution_count": 50,
   "metadata": {},
   "outputs": [],
   "source": [
    "for column in df_merged.columns[3:18]:\n",
    "    df_merged[column] = df_merged[column].interpolate(method='linear', limit_direction='forward', axis=0)\n",
    "    "
   ]
  },
  {
   "cell_type": "code",
   "execution_count": 51,
   "metadata": {},
   "outputs": [
    {
     "name": "stdout",
     "output_type": "stream",
     "text": [
      "<class 'pandas.core.frame.DataFrame'>\n",
      "RangeIndex: 27552 entries, 0 to 27551\n",
      "Data columns (total 20 columns):\n",
      " #   Column            Non-Null Count  Dtype  \n",
      "---  ------            --------------  -----  \n",
      " 0   datetime          27552 non-null  object \n",
      " 1   Demand (MW)       27552 non-null  float64\n",
      " 2   Name              27552 non-null  object \n",
      " 3   Temperature       27552 non-null  float64\n",
      " 4   feelslike         27552 non-null  float64\n",
      " 5   dewpoint          27552 non-null  float64\n",
      " 6   humidity          27552 non-null  float64\n",
      " 7   precipitation     27552 non-null  float64\n",
      " 8   snow              27552 non-null  float64\n",
      " 9   snowdepth         27552 non-null  float64\n",
      " 10  windgust          27539 non-null  float64\n",
      " 11  windspeed         27552 non-null  float64\n",
      " 12  winddirection     27552 non-null  float64\n",
      " 13  sealevelpressure  27552 non-null  float64\n",
      " 14  cloudcover        27552 non-null  float64\n",
      " 15  visibility        27552 non-null  float64\n",
      " 16  solarradiation    27552 non-null  float64\n",
      " 17  uvindex           27552 non-null  int64  \n",
      " 18  severerisk        27552 non-null  float64\n",
      " 19  conditions        27552 non-null  object \n",
      "dtypes: float64(16), int64(1), object(3)\n",
      "memory usage: 4.2+ MB\n"
     ]
    }
   ],
   "source": [
    "df_merged.info()"
   ]
  },
  {
   "cell_type": "code",
   "execution_count": 52,
   "metadata": {},
   "outputs": [],
   "source": [
    "df_merged.drop(['windgust'], inplace=True, axis=1)"
   ]
  },
  {
   "cell_type": "code",
   "execution_count": 53,
   "metadata": {},
   "outputs": [
    {
     "name": "stdout",
     "output_type": "stream",
     "text": [
      "<class 'pandas.core.frame.DataFrame'>\n",
      "RangeIndex: 27552 entries, 0 to 27551\n",
      "Data columns (total 19 columns):\n",
      " #   Column            Non-Null Count  Dtype  \n",
      "---  ------            --------------  -----  \n",
      " 0   datetime          27552 non-null  object \n",
      " 1   Demand (MW)       27552 non-null  float64\n",
      " 2   Name              27552 non-null  object \n",
      " 3   Temperature       27552 non-null  float64\n",
      " 4   feelslike         27552 non-null  float64\n",
      " 5   dewpoint          27552 non-null  float64\n",
      " 6   humidity          27552 non-null  float64\n",
      " 7   precipitation     27552 non-null  float64\n",
      " 8   snow              27552 non-null  float64\n",
      " 9   snowdepth         27552 non-null  float64\n",
      " 10  windspeed         27552 non-null  float64\n",
      " 11  winddirection     27552 non-null  float64\n",
      " 12  sealevelpressure  27552 non-null  float64\n",
      " 13  cloudcover        27552 non-null  float64\n",
      " 14  visibility        27552 non-null  float64\n",
      " 15  solarradiation    27552 non-null  float64\n",
      " 16  uvindex           27552 non-null  int64  \n",
      " 17  severerisk        27552 non-null  float64\n",
      " 18  conditions        27552 non-null  object \n",
      "dtypes: float64(15), int64(1), object(3)\n",
      "memory usage: 4.0+ MB\n"
     ]
    }
   ],
   "source": [
    "df_merged.info()"
   ]
  },
  {
   "cell_type": "code",
   "execution_count": null,
   "metadata": {},
   "outputs": [],
   "source": []
  },
  {
   "cell_type": "code",
   "execution_count": null,
   "metadata": {},
   "outputs": [],
   "source": []
  },
  {
   "cell_type": "code",
   "execution_count": null,
   "metadata": {},
   "outputs": [],
   "source": []
  },
  {
   "cell_type": "code",
   "execution_count": 54,
   "metadata": {},
   "outputs": [],
   "source": [
    "df_merged['snow']=df_merged['snow'].interpolate(method='linear', limit_direction='forward', axis=0)\n",
    "df_merged['snowdepth']=df_merged['snowdepth'].interpolate(method='linear', limit_direction='forward', axis=0)"
   ]
  },
  {
   "cell_type": "code",
   "execution_count": 55,
   "metadata": {},
   "outputs": [
    {
     "name": "stdout",
     "output_type": "stream",
     "text": [
      "<class 'pandas.core.frame.DataFrame'>\n",
      "RangeIndex: 27552 entries, 0 to 27551\n",
      "Data columns (total 19 columns):\n",
      " #   Column            Non-Null Count  Dtype  \n",
      "---  ------            --------------  -----  \n",
      " 0   datetime          27552 non-null  object \n",
      " 1   Demand (MW)       27552 non-null  float64\n",
      " 2   Name              27552 non-null  object \n",
      " 3   Temperature       27552 non-null  float64\n",
      " 4   feelslike         27552 non-null  float64\n",
      " 5   dewpoint          27552 non-null  float64\n",
      " 6   humidity          27552 non-null  float64\n",
      " 7   precipitation     27552 non-null  float64\n",
      " 8   snow              27552 non-null  float64\n",
      " 9   snowdepth         27552 non-null  float64\n",
      " 10  windspeed         27552 non-null  float64\n",
      " 11  winddirection     27552 non-null  float64\n",
      " 12  sealevelpressure  27552 non-null  float64\n",
      " 13  cloudcover        27552 non-null  float64\n",
      " 14  visibility        27552 non-null  float64\n",
      " 15  solarradiation    27552 non-null  float64\n",
      " 16  uvindex           27552 non-null  int64  \n",
      " 17  severerisk        27552 non-null  float64\n",
      " 18  conditions        27552 non-null  object \n",
      "dtypes: float64(15), int64(1), object(3)\n",
      "memory usage: 4.0+ MB\n"
     ]
    }
   ],
   "source": [
    "df_merged.info()"
   ]
  },
  {
   "cell_type": "code",
   "execution_count": 56,
   "metadata": {},
   "outputs": [
    {
     "name": "stdout",
     "output_type": "stream",
     "text": [
      "Correlation of price with Temperature: 0.45233960384840355\n",
      "Correlation of price with feelslike: 0.441472933404926\n",
      "Correlation of price with dewpoint: 0.3626129965433106\n",
      "Correlation of price with humidity: -0.19572462989123404\n",
      "Correlation of price with precipitation: -0.01703203825114375\n",
      "Correlation of price with snow: 0.015329744060287654\n",
      "Correlation of price with snowdepth: 0.05360803598398459\n",
      "Correlation of price with windspeed: 0.06389316675486967\n",
      "Correlation of price with winddirection: 0.05303417125254191\n",
      "Correlation of price with sealevelpressure: -0.029717039764268365\n",
      "Correlation of price with cloudcover: -0.06553044175434337\n",
      "Correlation of price with visibility: 0.08506004019113429\n",
      "Correlation of price with solarradiation: 0.37546701739356325\n",
      "Correlation of price with uvindex: 0.37277231672656097\n",
      "Correlation of price with severerisk: 0.23056008626748425\n"
     ]
    }
   ],
   "source": [
    "#with demandMW\n",
    "for column in df_merged.columns[3:18]:\n",
    "    print(f\"Correlation of price with {column}: {df_merged['Demand (MW)'].corr(df_merged[column])}\")"
   ]
  },
  {
   "cell_type": "code",
   "execution_count": 57,
   "metadata": {},
   "outputs": [],
   "source": [
    "df_merged.drop(['feelslike','uvindex', 'precipitation', 'sealevelpressure', 'windspeed', 'winddirection'], inplace=True, axis=1)"
   ]
  },
  {
   "cell_type": "code",
   "execution_count": null,
   "metadata": {},
   "outputs": [
    {
     "data": {
      "text/plain": [
       "0.9963920843433209"
      ]
     },
     "execution_count": 95,
     "metadata": {},
     "output_type": "execute_result"
    }
   ],
   "source": [
    "df_merged[\"solarradiation\"].corr(df_merged[\"uvindex\"])"
   ]
  },
  {
   "cell_type": "code",
   "execution_count": null,
   "metadata": {},
   "outputs": [
    {
     "data": {
      "text/plain": [
       "0.9941671111931236"
      ]
     },
     "execution_count": 96,
     "metadata": {},
     "output_type": "execute_result"
    }
   ],
   "source": [
    "df_merged[\"Temperature\"].corr(df_merged[\"feelslike\"])"
   ]
  },
  {
   "cell_type": "code",
   "execution_count": null,
   "metadata": {},
   "outputs": [
    {
     "data": {
      "text/plain": [
       "0.015329744060287654"
      ]
     },
     "execution_count": 77,
     "metadata": {},
     "output_type": "execute_result"
    }
   ],
   "source": [
    "df_merged['snow'].corr(df_merged['Demand (MW)'])"
   ]
  },
  {
   "cell_type": "code",
   "execution_count": null,
   "metadata": {},
   "outputs": [
    {
     "data": {
      "text/plain": [
       "0.05360803598398459"
      ]
     },
     "execution_count": 78,
     "metadata": {},
     "output_type": "execute_result"
    }
   ],
   "source": [
    "df_merged['snowdepth'].corr(df_merged['Demand (MW)'])"
   ]
  },
  {
   "cell_type": "code",
   "execution_count": null,
   "metadata": {},
   "outputs": [
    {
     "data": {
      "text/plain": [
       "0.45233960384840355"
      ]
     },
     "execution_count": 80,
     "metadata": {},
     "output_type": "execute_result"
    }
   ],
   "source": [
    "df_merged['Temperature'].corr(df_merged['Demand (MW)'])"
   ]
  },
  {
   "cell_type": "code",
   "execution_count": null,
   "metadata": {},
   "outputs": [],
   "source": [
    "df_merged=df_merged.drop(['snow'], axis=1)"
   ]
  },
  {
   "cell_type": "code",
   "execution_count": 60,
   "metadata": {},
   "outputs": [
    {
     "name": "stdout",
     "output_type": "stream",
     "text": [
      "<class 'pandas.core.frame.DataFrame'>\n",
      "RangeIndex: 27552 entries, 0 to 27551\n",
      "Data columns (total 13 columns):\n",
      " #   Column          Non-Null Count  Dtype  \n",
      "---  ------          --------------  -----  \n",
      " 0   datetime        27552 non-null  object \n",
      " 1   Demand (MW)     27552 non-null  float64\n",
      " 2   Name            27552 non-null  object \n",
      " 3   Temperature     27552 non-null  float64\n",
      " 4   dewpoint        27552 non-null  float64\n",
      " 5   humidity        27552 non-null  float64\n",
      " 6   snow            27552 non-null  float64\n",
      " 7   snowdepth       27552 non-null  float64\n",
      " 8   cloudcover      27552 non-null  float64\n",
      " 9   visibility      27552 non-null  float64\n",
      " 10  solarradiation  27552 non-null  float64\n",
      " 11  severerisk      27552 non-null  float64\n",
      " 12  conditions      27552 non-null  object \n",
      "dtypes: float64(10), object(3)\n",
      "memory usage: 2.7+ MB\n"
     ]
    }
   ],
   "source": [
    "df_merged.info()"
   ]
  },
  {
   "cell_type": "code",
   "execution_count": 63,
   "metadata": {},
   "outputs": [],
   "source": [
    "df_merged.to_csv('weather.csv', index=False)"
   ]
  }
 ],
 "metadata": {
  "kernelspec": {
   "display_name": "base",
   "language": "python",
   "name": "python3"
  },
  "language_info": {
   "codemirror_mode": {
    "name": "ipython",
    "version": 3
   },
   "file_extension": ".py",
   "mimetype": "text/x-python",
   "name": "python",
   "nbconvert_exporter": "python",
   "pygments_lexer": "ipython3",
   "version": "3.10.12"
  }
 },
 "nbformat": 4,
 "nbformat_minor": 2
}
