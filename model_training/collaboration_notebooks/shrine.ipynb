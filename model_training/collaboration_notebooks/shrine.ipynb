{
 "cells": [
  {
   "cell_type": "code",
   "execution_count": 1,
   "metadata": {},
   "outputs": [],
   "source": [
    "import pandas as pd"
   ]
  },
  {
   "cell_type": "code",
   "execution_count": 2,
   "metadata": {},
   "outputs": [],
   "source": [
    "df_weather = pd.read_csv('../../dataset/Demand Forecasting/Demand Forecasting Weather Data upto Feb 28.csv', sep=',')"
   ]
  },
  {
   "cell_type": "code",
   "execution_count": 3,
   "metadata": {},
   "outputs": [
    {
     "name": "stdout",
     "output_type": "stream",
     "text": [
      "<class 'pandas.core.frame.DataFrame'>\n",
      "RangeIndex: 27720 entries, 0 to 27719\n",
      "Data columns (total 26 columns):\n",
      " #   Column            Non-Null Count  Dtype  \n",
      "---  ------            --------------  -----  \n",
      " 0   Name              27720 non-null  object \n",
      " 1   datetime          27720 non-null  object \n",
      " 2   Temperature       27720 non-null  float64\n",
      " 3   feelslike         27720 non-null  float64\n",
      " 4   dewpoint          27720 non-null  float64\n",
      " 5   humidity          27720 non-null  float64\n",
      " 6   precipitation     27720 non-null  float64\n",
      " 7   precipprob        27720 non-null  int64  \n",
      " 8   preciptype        2751 non-null   object \n",
      " 9   snow              27702 non-null  float64\n",
      " 10  snowdepth         27702 non-null  float64\n",
      " 11  windgust          12223 non-null  float64\n",
      " 12  windspeed         27720 non-null  float64\n",
      " 13  winddirection     27720 non-null  float64\n",
      " 14  sealevelpressure  27702 non-null  float64\n",
      " 15  cloudcover        27720 non-null  float64\n",
      " 16  visibility        27702 non-null  float64\n",
      " 17  solarradiation    27720 non-null  float64\n",
      " 18  uvindex           27720 non-null  int64  \n",
      " 19  severerisk        9954 non-null   float64\n",
      " 20  conditions        27720 non-null  object \n",
      " 21  Unnamed: 21       0 non-null      float64\n",
      " 22  Unnamed: 22       0 non-null      float64\n",
      " 23  Unnamed: 23       0 non-null      float64\n",
      " 24  Unnamed: 24       0 non-null      float64\n",
      " 25  Unnamed: 25       1 non-null      object \n",
      "dtypes: float64(19), int64(2), object(5)\n",
      "memory usage: 5.5+ MB\n"
     ]
    }
   ],
   "source": [
    "df_weather.info()"
   ]
  }
 ],
 "metadata": {
  "kernelspec": {
   "display_name": "Python 3",
   "language": "python",
   "name": "python3"
  },
  "language_info": {
   "codemirror_mode": {
    "name": "ipython",
    "version": 3
   },
   "file_extension": ".py",
   "mimetype": "text/x-python",
   "name": "python",
   "nbconvert_exporter": "python",
   "pygments_lexer": "ipython3",
   "version": "3.10.12"
  }
 },
 "nbformat": 4,
 "nbformat_minor": 2
}
